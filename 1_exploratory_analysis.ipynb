{
 "cells": [
  {
   "cell_type": "code",
   "id": "initial_id",
   "metadata": {
    "collapsed": true,
    "ExecuteTime": {
     "end_time": "2025-10-05T09:57:45.901778Z",
     "start_time": "2025-10-05T09:57:44.516008Z"
    }
   },
   "source": [
    "# Criar ambiente virtual para não deixar o pc com lixo\n",
    "!python3 -m venv venv\n",
    "!source venv/bin/activate # Só para mac\n",
    "#!venv\\Scripts\\activate.bat Só para Windows"
   ],
   "outputs": [],
   "execution_count": 2
  },
  {
   "metadata": {
    "ExecuteTime": {
     "end_time": "2025-10-05T09:58:41.580996Z",
     "start_time": "2025-10-05T09:58:15.244045Z"
    }
   },
   "cell_type": "code",
   "source": [
    "# Instalar as dependecias necessárias\n",
    "!pip3 install -U ydata-profiling"
   ],
   "id": "e9acd31bdac71712",
   "outputs": [
    {
     "name": "stdout",
     "output_type": "stream",
     "text": [
      "Collecting ydata-profiling\r\n",
      "  Downloading ydata_profiling-4.17.0-py2.py3-none-any.whl.metadata (22 kB)\r\n",
      "Collecting scipy<1.16,>=1.4.1 (from ydata-profiling)\r\n",
      "  Downloading scipy-1.15.3-cp313-cp313-macosx_14_0_arm64.whl.metadata (61 kB)\r\n",
      "Collecting pandas!=1.4.0,<3.0,>1.1 (from ydata-profiling)\r\n",
      "  Downloading pandas-2.3.3-cp313-cp313-macosx_11_0_arm64.whl.metadata (91 kB)\r\n",
      "Collecting matplotlib<=3.10,>=3.5 (from ydata-profiling)\r\n",
      "  Downloading matplotlib-3.10.0-cp313-cp313-macosx_11_0_arm64.whl.metadata (11 kB)\r\n",
      "Collecting pydantic>=2 (from ydata-profiling)\r\n",
      "  Downloading pydantic-2.11.10-py3-none-any.whl.metadata (68 kB)\r\n",
      "Collecting PyYAML<6.1,>=5.0.0 (from ydata-profiling)\r\n",
      "  Downloading pyyaml-6.0.3-cp313-cp313-macosx_11_0_arm64.whl.metadata (2.4 kB)\r\n",
      "Collecting jinja2<3.2,>=2.11.1 (from ydata-profiling)\r\n",
      "  Downloading jinja2-3.1.6-py3-none-any.whl.metadata (2.9 kB)\r\n",
      "Collecting visions<0.8.2,>=0.7.5 (from visions[type_image_path]<0.8.2,>=0.7.5->ydata-profiling)\r\n",
      "  Downloading visions-0.8.1-py3-none-any.whl.metadata (11 kB)\r\n",
      "Collecting numpy<2.2,>=1.16.0 (from ydata-profiling)\r\n",
      "  Downloading numpy-2.1.3-cp313-cp313-macosx_14_0_arm64.whl.metadata (62 kB)\r\n",
      "Collecting minify-html>=0.15.0 (from ydata-profiling)\r\n",
      "  Downloading minify_html-0.16.4-cp313-cp313-macosx_11_0_arm64.whl.metadata (18 kB)\r\n",
      "Collecting filetype>=1.0.0 (from ydata-profiling)\r\n",
      "  Downloading filetype-1.2.0-py2.py3-none-any.whl.metadata (6.5 kB)\r\n",
      "Collecting phik<0.13,>=0.11.1 (from ydata-profiling)\r\n",
      "  Downloading phik-0.12.5.tar.gz (621 kB)\r\n",
      "\u001B[2K     \u001B[90m━━━━━━━━━━━━━━━━━━━━━━━━━━━━━━━━━━━━━━━━\u001B[0m \u001B[32m621.7/621.7 kB\u001B[0m \u001B[31m29.8 MB/s\u001B[0m  \u001B[33m0:00:00\u001B[0m\r\n",
      "\u001B[?25h  Installing build dependencies ... \u001B[?25ldone\r\n",
      "\u001B[?25h  Getting requirements to build wheel ... \u001B[?25ldone\r\n",
      "\u001B[?25h  Preparing metadata (pyproject.toml) ... \u001B[?25ldone\r\n",
      "\u001B[?25hCollecting requests<3,>=2.24.0 (from ydata-profiling)\r\n",
      "  Downloading requests-2.32.5-py3-none-any.whl.metadata (4.9 kB)\r\n",
      "Collecting tqdm<5,>=4.48.2 (from ydata-profiling)\r\n",
      "  Downloading tqdm-4.67.1-py3-none-any.whl.metadata (57 kB)\r\n",
      "Collecting seaborn<0.14,>=0.10.1 (from ydata-profiling)\r\n",
      "  Downloading seaborn-0.13.2-py3-none-any.whl.metadata (5.4 kB)\r\n",
      "Collecting multimethod<2,>=1.4 (from ydata-profiling)\r\n",
      "  Downloading multimethod-1.12-py3-none-any.whl.metadata (9.6 kB)\r\n",
      "Collecting statsmodels<1,>=0.13.2 (from ydata-profiling)\r\n",
      "  Downloading statsmodels-0.14.5-cp313-cp313-macosx_11_0_arm64.whl.metadata (9.5 kB)\r\n",
      "Collecting typeguard<5,>=3 (from ydata-profiling)\r\n",
      "  Downloading typeguard-4.4.4-py3-none-any.whl.metadata (3.3 kB)\r\n",
      "Collecting imagehash==4.3.1 (from ydata-profiling)\r\n",
      "  Downloading ImageHash-4.3.1-py2.py3-none-any.whl.metadata (8.0 kB)\r\n",
      "Collecting wordcloud>=1.9.3 (from ydata-profiling)\r\n",
      "  Downloading wordcloud-1.9.4-cp313-cp313-macosx_11_0_arm64.whl.metadata (3.4 kB)\r\n",
      "Collecting dacite>=1.8 (from ydata-profiling)\r\n",
      "  Downloading dacite-1.9.2-py3-none-any.whl.metadata (17 kB)\r\n",
      "Collecting numba<=0.61,>=0.56.0 (from ydata-profiling)\r\n",
      "  Downloading numba-0.61.0-cp313-cp313-macosx_11_0_arm64.whl.metadata (2.7 kB)\r\n",
      "Collecting PyWavelets (from imagehash==4.3.1->ydata-profiling)\r\n",
      "  Downloading pywavelets-1.9.0-cp313-cp313-macosx_11_0_arm64.whl.metadata (7.6 kB)\r\n",
      "Collecting pillow (from imagehash==4.3.1->ydata-profiling)\r\n",
      "  Downloading pillow-11.3.0-cp313-cp313-macosx_11_0_arm64.whl.metadata (9.0 kB)\r\n",
      "Collecting MarkupSafe>=2.0 (from jinja2<3.2,>=2.11.1->ydata-profiling)\r\n",
      "  Downloading markupsafe-3.0.3-cp313-cp313-macosx_11_0_arm64.whl.metadata (2.7 kB)\r\n",
      "Collecting contourpy>=1.0.1 (from matplotlib<=3.10,>=3.5->ydata-profiling)\r\n",
      "  Downloading contourpy-1.3.3-cp313-cp313-macosx_11_0_arm64.whl.metadata (5.5 kB)\r\n",
      "Collecting cycler>=0.10 (from matplotlib<=3.10,>=3.5->ydata-profiling)\r\n",
      "  Downloading cycler-0.12.1-py3-none-any.whl.metadata (3.8 kB)\r\n",
      "Collecting fonttools>=4.22.0 (from matplotlib<=3.10,>=3.5->ydata-profiling)\r\n",
      "  Downloading fonttools-4.60.1-cp313-cp313-macosx_10_13_universal2.whl.metadata (112 kB)\r\n",
      "Collecting kiwisolver>=1.3.1 (from matplotlib<=3.10,>=3.5->ydata-profiling)\r\n",
      "  Downloading kiwisolver-1.4.9-cp313-cp313-macosx_11_0_arm64.whl.metadata (6.3 kB)\r\n",
      "Collecting packaging>=20.0 (from matplotlib<=3.10,>=3.5->ydata-profiling)\r\n",
      "  Using cached packaging-25.0-py3-none-any.whl.metadata (3.3 kB)\r\n",
      "Collecting pyparsing>=2.3.1 (from matplotlib<=3.10,>=3.5->ydata-profiling)\r\n",
      "  Downloading pyparsing-3.2.5-py3-none-any.whl.metadata (5.0 kB)\r\n",
      "Collecting python-dateutil>=2.7 (from matplotlib<=3.10,>=3.5->ydata-profiling)\r\n",
      "  Downloading python_dateutil-2.9.0.post0-py2.py3-none-any.whl.metadata (8.4 kB)\r\n",
      "Collecting llvmlite<0.45,>=0.44.0dev0 (from numba<=0.61,>=0.56.0->ydata-profiling)\r\n",
      "  Downloading llvmlite-0.44.0-cp313-cp313-macosx_11_0_arm64.whl.metadata (4.8 kB)\r\n",
      "Collecting pytz>=2020.1 (from pandas!=1.4.0,<3.0,>1.1->ydata-profiling)\r\n",
      "  Downloading pytz-2025.2-py2.py3-none-any.whl.metadata (22 kB)\r\n",
      "Collecting tzdata>=2022.7 (from pandas!=1.4.0,<3.0,>1.1->ydata-profiling)\r\n",
      "  Downloading tzdata-2025.2-py2.py3-none-any.whl.metadata (1.4 kB)\r\n",
      "Collecting joblib>=0.14.1 (from phik<0.13,>=0.11.1->ydata-profiling)\r\n",
      "  Downloading joblib-1.5.2-py3-none-any.whl.metadata (5.6 kB)\r\n",
      "Collecting charset_normalizer<4,>=2 (from requests<3,>=2.24.0->ydata-profiling)\r\n",
      "  Downloading charset_normalizer-3.4.3-cp313-cp313-macosx_10_13_universal2.whl.metadata (36 kB)\r\n",
      "Collecting idna<4,>=2.5 (from requests<3,>=2.24.0->ydata-profiling)\r\n",
      "  Downloading idna-3.10-py3-none-any.whl.metadata (10 kB)\r\n",
      "Collecting urllib3<3,>=1.21.1 (from requests<3,>=2.24.0->ydata-profiling)\r\n",
      "  Downloading urllib3-2.5.0-py3-none-any.whl.metadata (6.5 kB)\r\n",
      "Collecting certifi>=2017.4.17 (from requests<3,>=2.24.0->ydata-profiling)\r\n",
      "  Downloading certifi-2025.10.5-py3-none-any.whl.metadata (2.5 kB)\r\n",
      "Collecting patsy>=0.5.6 (from statsmodels<1,>=0.13.2->ydata-profiling)\r\n",
      "  Downloading patsy-1.0.1-py2.py3-none-any.whl.metadata (3.3 kB)\r\n",
      "Collecting typing_extensions>=4.14.0 (from typeguard<5,>=3->ydata-profiling)\r\n",
      "  Downloading typing_extensions-4.15.0-py3-none-any.whl.metadata (3.3 kB)\r\n",
      "Collecting attrs>=19.3.0 (from visions<0.8.2,>=0.7.5->visions[type_image_path]<0.8.2,>=0.7.5->ydata-profiling)\r\n",
      "  Downloading attrs-25.3.0-py3-none-any.whl.metadata (10 kB)\r\n",
      "Collecting networkx>=2.4 (from visions<0.8.2,>=0.7.5->visions[type_image_path]<0.8.2,>=0.7.5->ydata-profiling)\r\n",
      "  Downloading networkx-3.5-py3-none-any.whl.metadata (6.3 kB)\r\n",
      "Collecting puremagic (from visions<0.8.2,>=0.7.5->visions[type_image_path]<0.8.2,>=0.7.5->ydata-profiling)\r\n",
      "  Downloading puremagic-1.30-py3-none-any.whl.metadata (5.8 kB)\r\n",
      "Collecting annotated-types>=0.6.0 (from pydantic>=2->ydata-profiling)\r\n",
      "  Downloading annotated_types-0.7.0-py3-none-any.whl.metadata (15 kB)\r\n",
      "Collecting pydantic-core==2.33.2 (from pydantic>=2->ydata-profiling)\r\n",
      "  Downloading pydantic_core-2.33.2-cp313-cp313-macosx_11_0_arm64.whl.metadata (6.8 kB)\r\n",
      "Collecting typing-inspection>=0.4.0 (from pydantic>=2->ydata-profiling)\r\n",
      "  Downloading typing_inspection-0.4.2-py3-none-any.whl.metadata (2.6 kB)\r\n",
      "Collecting six>=1.5 (from python-dateutil>=2.7->matplotlib<=3.10,>=3.5->ydata-profiling)\r\n",
      "  Downloading six-1.17.0-py2.py3-none-any.whl.metadata (1.7 kB)\r\n",
      "Downloading ydata_profiling-4.17.0-py2.py3-none-any.whl (399 kB)\r\n",
      "Downloading ImageHash-4.3.1-py2.py3-none-any.whl (296 kB)\r\n",
      "Downloading jinja2-3.1.6-py3-none-any.whl (134 kB)\r\n",
      "Downloading matplotlib-3.10.0-cp313-cp313-macosx_11_0_arm64.whl (8.0 MB)\r\n",
      "\u001B[2K   \u001B[90m━━━━━━━━━━━━━━━━━━━━━━━━━━━━━━━━━━━━━━━━\u001B[0m \u001B[32m8.0/8.0 MB\u001B[0m \u001B[31m6.7 MB/s\u001B[0m  \u001B[33m0:00:01\u001B[0m eta \u001B[36m0:00:01\u001B[0mm\r\n",
      "\u001B[?25hDownloading multimethod-1.12-py3-none-any.whl (10 kB)\r\n",
      "Downloading numba-0.61.0-cp313-cp313-macosx_11_0_arm64.whl (2.8 MB)\r\n",
      "\u001B[2K   \u001B[90m━━━━━━━━━━━━━━━━━━━━━━━━━━━━━━━━━━━━━━━━\u001B[0m \u001B[32m2.8/2.8 MB\u001B[0m \u001B[31m69.1 MB/s\u001B[0m  \u001B[33m0:00:00\u001B[0m\r\n",
      "\u001B[?25hDownloading llvmlite-0.44.0-cp313-cp313-macosx_11_0_arm64.whl (26.2 MB)\r\n",
      "\u001B[2K   \u001B[90m━━━━━━━━━━━━━━━━━━━━━━━━━━━━━━━━━━━━━━━━\u001B[0m \u001B[32m26.2/26.2 MB\u001B[0m \u001B[31m28.7 MB/s\u001B[0m  \u001B[33m0:00:00\u001B[0m eta \u001B[36m0:00:01\u001B[0m\r\n",
      "\u001B[?25hDownloading numpy-2.1.3-cp313-cp313-macosx_14_0_arm64.whl (5.1 MB)\r\n",
      "\u001B[2K   \u001B[90m━━━━━━━━━━━━━━━━━━━━━━━━━━━━━━━━━━━━━━━━\u001B[0m \u001B[32m5.1/5.1 MB\u001B[0m \u001B[31m19.6 MB/s\u001B[0m  \u001B[33m0:00:00\u001B[0m eta \u001B[36m0:00:01\u001B[0m\r\n",
      "\u001B[?25hDownloading pandas-2.3.3-cp313-cp313-macosx_11_0_arm64.whl (10.7 MB)\r\n",
      "\u001B[2K   \u001B[90m━━━━━━━━━━━━━━━━━━━━━━━━━━━━━━━━━━━━━━━━\u001B[0m \u001B[32m10.7/10.7 MB\u001B[0m \u001B[31m27.7 MB/s\u001B[0m  \u001B[33m0:00:00\u001B[0meta \u001B[36m0:00:01\u001B[0m\r\n",
      "\u001B[?25hDownloading pyyaml-6.0.3-cp313-cp313-macosx_11_0_arm64.whl (173 kB)\r\n",
      "Downloading requests-2.32.5-py3-none-any.whl (64 kB)\r\n",
      "Downloading charset_normalizer-3.4.3-cp313-cp313-macosx_10_13_universal2.whl (205 kB)\r\n",
      "Downloading idna-3.10-py3-none-any.whl (70 kB)\r\n",
      "Downloading scipy-1.15.3-cp313-cp313-macosx_14_0_arm64.whl (22.4 MB)\r\n",
      "\u001B[2K   \u001B[90m━━━━━━━━━━━━━━━━━━━━━━━━━━━━━━━━━━━━━━━━\u001B[0m \u001B[32m22.4/22.4 MB\u001B[0m \u001B[31m28.6 MB/s\u001B[0m  \u001B[33m0:00:00\u001B[0m eta \u001B[36m0:00:01\u001B[0m\r\n",
      "\u001B[?25hDownloading seaborn-0.13.2-py3-none-any.whl (294 kB)\r\n",
      "Downloading statsmodels-0.14.5-cp313-cp313-macosx_11_0_arm64.whl (9.7 MB)\r\n",
      "\u001B[2K   \u001B[90m━━━━━━━━━━━━━━━━━━━━━━━━━━━━━━━━━━━━━━━━\u001B[0m \u001B[32m9.7/9.7 MB\u001B[0m \u001B[31m37.8 MB/s\u001B[0m  \u001B[33m0:00:00\u001B[0m eta \u001B[36m0:00:01\u001B[0m\r\n",
      "\u001B[?25hDownloading tqdm-4.67.1-py3-none-any.whl (78 kB)\r\n",
      "Downloading typeguard-4.4.4-py3-none-any.whl (34 kB)\r\n",
      "Downloading urllib3-2.5.0-py3-none-any.whl (129 kB)\r\n",
      "Downloading visions-0.8.1-py3-none-any.whl (105 kB)\r\n",
      "Downloading attrs-25.3.0-py3-none-any.whl (63 kB)\r\n",
      "Downloading certifi-2025.10.5-py3-none-any.whl (163 kB)\r\n",
      "Downloading contourpy-1.3.3-cp313-cp313-macosx_11_0_arm64.whl (274 kB)\r\n",
      "Downloading cycler-0.12.1-py3-none-any.whl (8.3 kB)\r\n",
      "Downloading dacite-1.9.2-py3-none-any.whl (16 kB)\r\n",
      "Downloading filetype-1.2.0-py2.py3-none-any.whl (19 kB)\r\n",
      "Downloading fonttools-4.60.1-cp313-cp313-macosx_10_13_universal2.whl (2.8 MB)\r\n",
      "\u001B[2K   \u001B[90m━━━━━━━━━━━━━━━━━━━━━━━━━━━━━━━━━━━━━━━━\u001B[0m \u001B[32m2.8/2.8 MB\u001B[0m \u001B[31m33.9 MB/s\u001B[0m  \u001B[33m0:00:00\u001B[0m\r\n",
      "\u001B[?25hDownloading joblib-1.5.2-py3-none-any.whl (308 kB)\r\n",
      "Downloading kiwisolver-1.4.9-cp313-cp313-macosx_11_0_arm64.whl (64 kB)\r\n",
      "Downloading markupsafe-3.0.3-cp313-cp313-macosx_11_0_arm64.whl (12 kB)\r\n",
      "Downloading minify_html-0.16.4-cp313-cp313-macosx_11_0_arm64.whl (2.2 MB)\r\n",
      "\u001B[2K   \u001B[90m━━━━━━━━━━━━━━━━━━━━━━━━━━━━━━━━━━━━━━━━\u001B[0m \u001B[32m2.2/2.2 MB\u001B[0m \u001B[31m35.6 MB/s\u001B[0m  \u001B[33m0:00:00\u001B[0m\r\n",
      "\u001B[?25hDownloading networkx-3.5-py3-none-any.whl (2.0 MB)\r\n",
      "\u001B[2K   \u001B[90m━━━━━━━━━━━━━━━━━━━━━━━━━━━━━━━━━━━━━━━━\u001B[0m \u001B[32m2.0/2.0 MB\u001B[0m \u001B[31m36.2 MB/s\u001B[0m  \u001B[33m0:00:00\u001B[0m\r\n",
      "\u001B[?25hUsing cached packaging-25.0-py3-none-any.whl (66 kB)\r\n",
      "Downloading patsy-1.0.1-py2.py3-none-any.whl (232 kB)\r\n",
      "Downloading pillow-11.3.0-cp313-cp313-macosx_11_0_arm64.whl (4.7 MB)\r\n",
      "\u001B[2K   \u001B[90m━━━━━━━━━━━━━━━━━━━━━━━━━━━━━━━━━━━━━━━━\u001B[0m \u001B[32m4.7/4.7 MB\u001B[0m \u001B[31m39.2 MB/s\u001B[0m  \u001B[33m0:00:00\u001B[0m\r\n",
      "\u001B[?25hDownloading pydantic-2.11.10-py3-none-any.whl (444 kB)\r\n",
      "Downloading pydantic_core-2.33.2-cp313-cp313-macosx_11_0_arm64.whl (1.8 MB)\r\n",
      "\u001B[2K   \u001B[90m━━━━━━━━━━━━━━━━━━━━━━━━━━━━━━━━━━━━━━━━\u001B[0m \u001B[32m1.8/1.8 MB\u001B[0m \u001B[31m35.0 MB/s\u001B[0m  \u001B[33m0:00:00\u001B[0m\r\n",
      "\u001B[?25hDownloading annotated_types-0.7.0-py3-none-any.whl (13 kB)\r\n",
      "Downloading pyparsing-3.2.5-py3-none-any.whl (113 kB)\r\n",
      "Downloading python_dateutil-2.9.0.post0-py2.py3-none-any.whl (229 kB)\r\n",
      "Downloading pytz-2025.2-py2.py3-none-any.whl (509 kB)\r\n",
      "Downloading six-1.17.0-py2.py3-none-any.whl (11 kB)\r\n",
      "Downloading typing_extensions-4.15.0-py3-none-any.whl (44 kB)\r\n",
      "Downloading typing_inspection-0.4.2-py3-none-any.whl (14 kB)\r\n",
      "Downloading tzdata-2025.2-py2.py3-none-any.whl (347 kB)\r\n",
      "Downloading wordcloud-1.9.4-cp313-cp313-macosx_11_0_arm64.whl (167 kB)\r\n",
      "Downloading puremagic-1.30-py3-none-any.whl (43 kB)\r\n",
      "Downloading pywavelets-1.9.0-cp313-cp313-macosx_11_0_arm64.whl (4.3 MB)\r\n",
      "\u001B[2K   \u001B[90m━━━━━━━━━━━━━━━━━━━━━━━━━━━━━━━━━━━━━━━━\u001B[0m \u001B[32m4.3/4.3 MB\u001B[0m \u001B[31m24.0 MB/s\u001B[0m  \u001B[33m0:00:00\u001B[0m\r\n",
      "\u001B[?25hBuilding wheels for collected packages: phik\r\n",
      "  Building wheel for phik (pyproject.toml) ... \u001B[?25ldone\r\n",
      "\u001B[?25h  Created wheel for phik: filename=phik-0.12.5-cp313-cp313-macosx_26_0_arm64.whl size=666584 sha256=837cd71708d725138d24c2a301f3a4cd2f3b68e5dbf55b8a6bd16300a5db4531\r\n",
      "  Stored in directory: /Users/mateuscosta/Library/Caches/pip/wheels/89/bd/b8/9eca3caa569dda2ba255d742d106e30482a8eb005591cafa22\r\n",
      "Successfully built phik\r\n",
      "Installing collected packages: pytz, puremagic, minify-html, filetype, urllib3, tzdata, typing_extensions, tqdm, six, PyYAML, pyparsing, pillow, packaging, numpy, networkx, multimethod, MarkupSafe, llvmlite, kiwisolver, joblib, idna, fonttools, dacite, cycler, charset_normalizer, certifi, attrs, annotated-types, typing-inspection, typeguard, scipy, requests, PyWavelets, python-dateutil, pydantic-core, patsy, numba, jinja2, contourpy, pydantic, pandas, matplotlib, imagehash, wordcloud, visions, statsmodels, seaborn, phik, ydata-profiling\r\n",
      "\u001B[2K   \u001B[90m━━━━━━━━━━━━━━━━━━━━━━━━━━━━━━━━━━━━━━━━\u001B[0m \u001B[32m49/49\u001B[0m [ydata-profiling]rofiling]]els]\r\n",
      "\u001B[1A\u001B[2KSuccessfully installed MarkupSafe-3.0.3 PyWavelets-1.9.0 PyYAML-6.0.3 annotated-types-0.7.0 attrs-25.3.0 certifi-2025.10.5 charset_normalizer-3.4.3 contourpy-1.3.3 cycler-0.12.1 dacite-1.9.2 filetype-1.2.0 fonttools-4.60.1 idna-3.10 imagehash-4.3.1 jinja2-3.1.6 joblib-1.5.2 kiwisolver-1.4.9 llvmlite-0.44.0 matplotlib-3.10.0 minify-html-0.16.4 multimethod-1.12 networkx-3.5 numba-0.61.0 numpy-2.1.3 packaging-25.0 pandas-2.3.3 patsy-1.0.1 phik-0.12.5 pillow-11.3.0 puremagic-1.30 pydantic-2.11.10 pydantic-core-2.33.2 pyparsing-3.2.5 python-dateutil-2.9.0.post0 pytz-2025.2 requests-2.32.5 scipy-1.15.3 seaborn-0.13.2 six-1.17.0 statsmodels-0.14.5 tqdm-4.67.1 typeguard-4.4.4 typing-inspection-0.4.2 typing_extensions-4.15.0 tzdata-2025.2 urllib3-2.5.0 visions-0.8.1 wordcloud-1.9.4 ydata-profiling-4.17.0\r\n"
     ]
    }
   ],
   "execution_count": 7
  },
  {
   "metadata": {
    "ExecuteTime": {
     "end_time": "2025-10-05T09:58:03.204598Z",
     "start_time": "2025-10-05T09:58:02.974880Z"
    }
   },
   "cell_type": "code",
   "source": [
    "import pandas as pd\n",
    "import numpy as np"
   ],
   "id": "c4ab776e04c984e2",
   "outputs": [],
   "execution_count": 4
  },
  {
   "metadata": {
    "ExecuteTime": {
     "end_time": "2025-10-05T09:58:05.658553Z",
     "start_time": "2025-10-05T09:58:05.492759Z"
    }
   },
   "cell_type": "code",
   "source": [
    "# Guardar dados\n",
    "data_path = \"customer_info.csv\"\n",
    "\n",
    "data = np.genfromtxt(data_path, delimiter=',')\n",
    "df = pd.read_csv(data_path)"
   ],
   "id": "b449daad78ecd713",
   "outputs": [],
   "execution_count": 5
  },
  {
   "metadata": {
    "ExecuteTime": {
     "end_time": "2025-10-05T09:58:07.312866Z",
     "start_time": "2025-10-05T09:58:07.309810Z"
    }
   },
   "cell_type": "code",
   "source": [
    "# Numero de colunas, linhas e data types\n",
    "print(f\"Total de colunas: {data.shape[1]}\")\n",
    "print(f\"Total de linhas: {df.shape[0]}\")\n",
    "print(f\"\\nData Types para cada coluna:\\n{df.dtypes}\")"
   ],
   "id": "b0f042b7b3b19bc1",
   "outputs": [
    {
     "name": "stdout",
     "output_type": "stream",
     "text": [
      "Total de colunas: 25\n",
      "Total de linhas: 16978\n",
      "\n",
      "Data Types para cada coluna:\n",
      "customer_id                                  int64\n",
      "customer_name                               object\n",
      "customer_gender                             object\n",
      "customer_birthdate                          object\n",
      "kids_home                                  float64\n",
      "teens_home                                 float64\n",
      "number_complaints                          float64\n",
      "distinct_stores_visited                    float64\n",
      "lifetime_spend_groceries                   float64\n",
      "lifetime_spend_electronics                 float64\n",
      "typical_hour                               float64\n",
      "lifetime_spend_vegetables                  float64\n",
      "lifetime_spend_nonalcohol_drinks           float64\n",
      "lifetime_spend_alcohol_drinks              float64\n",
      "lifetime_spend_meat                        float64\n",
      "lifetime_spend_fish                        float64\n",
      "lifetime_spend_hygiene                     float64\n",
      "lifetime_spend_videogames                  float64\n",
      "lifetime_spend_petfood                     float64\n",
      "lifetime_total_distinct_products           float64\n",
      "percentage_of_products_bought_promotion    float64\n",
      "year_first_transaction                     float64\n",
      "loyalty_card_number                        float64\n",
      "latitude                                   float64\n",
      "longitude                                  float64\n",
      "dtype: object\n"
     ]
    }
   ],
   "execution_count": 6
  }
 ],
 "metadata": {
  "kernelspec": {
   "display_name": "Python 3",
   "language": "python",
   "name": "python3"
  },
  "language_info": {
   "codemirror_mode": {
    "name": "ipython",
    "version": 2
   },
   "file_extension": ".py",
   "mimetype": "text/x-python",
   "name": "python",
   "nbconvert_exporter": "python",
   "pygments_lexer": "ipython2",
   "version": "2.7.6"
  }
 },
 "nbformat": 4,
 "nbformat_minor": 5
}
